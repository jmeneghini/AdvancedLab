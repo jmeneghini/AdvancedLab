{
 "cells": [
  {
   "cell_type": "code",
   "execution_count": 292,
   "metadata": {
    "collapsed": true
   },
   "outputs": [],
   "source": [
    "import numpy as np\n",
    "import matplotlib.pyplot as plt\n",
    "from uncertainties import ufloat, unumpy\n",
    "from IPython.display import display, Latex\n",
    "from scipy.constants import g\n",
    "from sklearn.metrics import r2_score"
   ]
  },
  {
   "cell_type": "code",
   "execution_count": 293,
   "outputs": [],
   "source": [
    "# importing local modules\n",
    "import sys\n",
    "sys.path.append('...\\\\...\\\\utility')\n",
    "\n",
    "from utility import plots"
   ],
   "metadata": {
    "collapsed": false
   }
  },
  {
   "cell_type": "code",
   "execution_count": 294,
   "outputs": [],
   "source": [
    "# Setting up the plots\n",
    "plots.set_style()"
   ],
   "metadata": {
    "collapsed": false
   }
  },
  {
   "cell_type": "code",
   "execution_count": 295,
   "outputs": [],
   "source": [
    "def process_periods(periods):\n",
    "    \"\"\"\n",
    "    Processes the periods of oscillation\n",
    "    \"\"\"\n",
    "    # Calculating the average period and standard deviation\n",
    "    period_avg = np.mean(periods)\n",
    "    period_std = np.std(periods)/np.sqrt(len(periods))\n",
    "    period = ufloat(period_avg, period_std)\n",
    "    natural_frequency = 1/period\n",
    "    natural_angular_frequency = 2*np.pi*natural_frequency\n",
    "    return period, natural_frequency, natural_angular_frequency"
   ],
   "metadata": {
    "collapsed": false
   }
  },
  {
   "cell_type": "markdown",
   "source": [
    "# Part 1: Measuring spring constants\n",
    "For the three (supposedly identical) spring, we're measuring the displacement using a meter stick while increasing mass from 50g to 130g in steps of 20g (5 measurements)."
   ],
   "metadata": {
    "collapsed": false
   }
  },
  {
   "cell_type": "code",
   "execution_count": 296,
   "outputs": [],
   "source": [
    "spring_1_mass = np.array([50, 70, 90, 110, 130])*1E-3 # in kg\n",
    "spring_1_displacement = np.array([14.0, 19.5, 25.0, 30.5, 36.3])*1E-2 # in m"
   ],
   "metadata": {
    "collapsed": false
   }
  },
  {
   "cell_type": "code",
   "execution_count": 297,
   "outputs": [],
   "source": [
    "spring_1_force = spring_1_mass*g # in N"
   ],
   "metadata": {
    "collapsed": false
   }
  },
  {
   "cell_type": "code",
   "execution_count": 298,
   "outputs": [],
   "source": [
    "def linear_fit(x, y):\n",
    "    \"\"\"\n",
    "    Fits a linear function to the data\n",
    "    \"\"\"\n",
    "    fit, cov = np.polyfit(x, y, 1, cov = True)\n",
    "    fit_fn = np.poly1d(fit)\n",
    "    R2 = r2_score(y, fit_fn(x))\n",
    "    err = np.sqrt(np.diag(cov))\n",
    "    return [ufloat(fit[0], err[0]), ufloat(fit[1], err[1])], fit_fn, R2"
   ],
   "metadata": {
    "collapsed": false
   }
  },
  {
   "cell_type": "code",
   "execution_count": 299,
   "outputs": [],
   "source": [
    "def umean(x):\n",
    "    \"\"\"\n",
    "    Calculates the mean of an array of uncertainties\n",
    "    \"\"\"\n",
    "    mean = sum(x)/len(x)\n",
    "    return mean"
   ],
   "metadata": {
    "collapsed": false
   }
  },
  {
   "cell_type": "code",
   "execution_count": 300,
   "outputs": [
    {
     "data": {
      "text/plain": "<IPython.core.display.Latex object>",
      "text/latex": "Spring 1 spring constant: $3.527 \\pm 0.022$ N/m"
     },
     "metadata": {},
     "output_type": "display_data"
    }
   ],
   "source": [
    "# Plotting the force vs displacement and fit using np.polyfit for spring 1\n",
    "fit, fit_fn_1, R2_1 = linear_fit(spring_1_displacement, spring_1_force)\n",
    "spring_1_k = fit[0]\n",
    "display(Latex('Spring 1 spring constant: ${:L}$ N/m'.format(spring_1_k)))"
   ],
   "metadata": {
    "collapsed": false
   }
  },
  {
   "cell_type": "code",
   "execution_count": 301,
   "outputs": [],
   "source": [
    "# Repeat for spring 2\n",
    "spring_2_mass = np.array([50, 70, 90, 110, 130])*1E-3 # in kg\n",
    "spring_2_displacement = np.array([14.5, 20.0, 25.7, 31.5, 37.0])*1E-2 # in m"
   ],
   "metadata": {
    "collapsed": false
   }
  },
  {
   "cell_type": "code",
   "execution_count": 302,
   "outputs": [],
   "source": [
    "spring_2_force = spring_2_mass*9.81 # in N"
   ],
   "metadata": {
    "collapsed": false
   }
  },
  {
   "cell_type": "code",
   "execution_count": 303,
   "outputs": [
    {
     "data": {
      "text/plain": "<IPython.core.display.Latex object>",
      "text/latex": "Spring 2 spring constant: $3.472 \\pm 0.018$ N/m"
     },
     "metadata": {},
     "output_type": "display_data"
    }
   ],
   "source": [
    "# Plotting the force vs displacement and fit using np.polyfit for spring 2\n",
    "fit, fit_fn_2, R2_2= linear_fit(spring_2_displacement, spring_2_force)\n",
    "spring_2_k = fit[0]\n",
    "display(Latex('Spring 2 spring constant: ${:L}$ N/m'.format(spring_2_k)))"
   ],
   "metadata": {
    "collapsed": false
   }
  },
  {
   "cell_type": "code",
   "execution_count": 304,
   "outputs": [],
   "source": [
    "# Repeat for spring 3\n",
    "spring_3_mass = np.array([50, 70, 90, 110, 130])*1E-3 # in kg\n",
    "spring_3_displacement = np.array([13.0, 18.5, 24.0, 29.5, 35.2])*1E-2 # in m"
   ],
   "metadata": {
    "collapsed": false
   }
  },
  {
   "cell_type": "code",
   "execution_count": 305,
   "outputs": [],
   "source": [
    "spring_3_force = spring_3_mass*9.81 # in N"
   ],
   "metadata": {
    "collapsed": false
   }
  },
  {
   "cell_type": "code",
   "execution_count": 306,
   "outputs": [
    {
     "data": {
      "text/plain": "<IPython.core.display.Latex object>",
      "text/latex": "Spring 3 spring constant: $3.541 \\pm 0.015$ N/m"
     },
     "metadata": {},
     "output_type": "display_data"
    }
   ],
   "source": [
    "# Plotting the force vs displacement and fit using np.polyfit for spring 3\n",
    "fit, fit_fn_3, R2_3 = linear_fit(spring_3_displacement, spring_3_force)\n",
    "spring_3_k = fit[0]\n",
    "display(Latex('Spring 3 spring constant: ${:L}$ N/m'.format(spring_3_k)))"
   ],
   "metadata": {
    "collapsed": false
   }
  },
  {
   "cell_type": "code",
   "execution_count": 307,
   "outputs": [
    {
     "data": {
      "text/plain": "<IPython.core.display.Latex object>",
      "text/latex": "Spring constants: 1: $3.527 \\pm 0.022$ N/m,   2: $3.472 \\pm 0.018$ N/m,   3: $3.541 \\pm 0.015$ N/m"
     },
     "metadata": {},
     "output_type": "display_data"
    }
   ],
   "source": [
    "# List of spring constants\n",
    "spring_constants = np.array([spring_1_k, spring_2_k, spring_3_k])\n",
    "display(Latex('Spring constants: 1: ${:L}$ N/m,   2: ${:L}$ N/m,   3: ${:L}$ N/m'.format(spring_constants[0], spring_constants[1], spring_constants[2])))"
   ],
   "metadata": {
    "collapsed": false
   }
  },
  {
   "cell_type": "code",
   "execution_count": 308,
   "outputs": [
    {
     "data": {
      "text/plain": "<Figure size 1404x289.24 with 3 Axes>",
      "image/png": "[encoded data removed]"
     },
     "metadata": {
      "needs_background": "light"
     },
     "output_type": "display_data"
    }
   ],
   "source": [
    "# Plotting all three spring constants in subplots\n",
    "fig, ax = plt.subplots(1, 3, figsize = plots.set_size('default', fraction = 3, subplots = (1, 3)))\n",
    "\n",
    "ax[0].plot(spring_1_displacement, fit_fn_1(spring_1_displacement), '--', label = \"F = {:.2f}x + {:.2f}\".format(spring_1_k.n, spring_1_k.s) + \", $R^2$ = {:.2f}\".format(R2_1), color = \"grey\")\n",
    "ax[0].plot(spring_1_displacement, spring_1_force, 'o', label = 'Data', color = \"black\")\n",
    "ax[0].set_ylabel('Force (N)')\n",
    "ax[0].set_title('Spring 1')\n",
    "ax[0].legend()\n",
    "\n",
    "ax[1].plot(spring_2_displacement, fit_fn_2(spring_2_displacement), '--', label = \"F = {:.2f}x + {:.2f}\".format(spring_2_k.n, spring_2_k.s) + \", $R^2$ = {:.2f}\".format(R2_2), color = \"grey\")\n",
    "ax[1].plot(spring_2_displacement, spring_2_force, 'o', color = \"black\")\n",
    "ax[1].set_title('Spring 2')\n",
    "ax[1].set_xlabel('Displacement (m)')\n",
    "ax[1].legend()\n",
    "\n",
    "ax[2].plot(spring_3_displacement, fit_fn_3(spring_3_displacement), '--', label = \"F = {:.2f}x + {:.2f}\".format(spring_3_k.n, spring_3_k.s) + \", $R^2$ = {:.2f}\".format(R2_3), color = \"grey\")\n",
    "ax[2].plot(spring_3_displacement, spring_3_force, 'o', color = \"black\")\n",
    "ax[2].set_title('Spring 3')\n",
    "ax[2].legend()\n",
    "\n",
    "# set title for the figure above the subplots higher\n",
    "fig.suptitle('Force vs Displacement for Three Springs Used for Harmonic Oscillator Experiment', fontsize = 20)\n",
    "# move title up\n",
    "fig.subplots_adjust(top = 0.80)\n",
    "\n",
    "# plt.savefig('../figures/spring_constants.pdf', dpi = 300)"
   ],
   "metadata": {
    "collapsed": false
   }
  },
  {
   "cell_type": "code",
   "execution_count": 309,
   "outputs": [
    {
     "data": {
      "text/plain": "<IPython.core.display.Latex object>",
      "text/latex": "Average spring constant: $3.514 \\pm 0.011$ N/m"
     },
     "metadata": {},
     "output_type": "display_data"
    }
   ],
   "source": [
    "# Calculating the average spring constant and standard deviation\n",
    "spring_constant = umean(spring_constants)\n",
    "display(Latex('Average spring constant: ${:L}$ N/m'.format(spring_constant)))"
   ],
   "metadata": {
    "collapsed": false
   }
  },
  {
   "cell_type": "markdown",
   "source": [
    "# Part 2: The forced, damped, harmonic oscillator\n",
    " - Calculate the period of the oscillator with no driving force\n",
    "  - Calculate the natural frequency of the oscillator $f_0$ and the natural angular frequency $\\omega_0$"
   ],
   "metadata": {
    "collapsed": false
   }
  },
  {
   "cell_type": "code",
   "execution_count": 310,
   "outputs": [],
   "source": [
    "# Mass of air carts in kg\n",
    "air_cart_masses = unumpy.uarray([207.9, 206.4], [0.05, 0.05])*1E-3"
   ],
   "metadata": {
    "collapsed": false
   }
  },
  {
   "cell_type": "code",
   "execution_count": 311,
   "outputs": [
    {
     "data": {
      "text/plain": "<IPython.core.display.Latex object>",
      "text/latex": "Average period: $1.08 \\pm 0.04$ s"
     },
     "metadata": {},
     "output_type": "display_data"
    },
    {
     "data": {
      "text/plain": "<IPython.core.display.Latex object>",
      "text/latex": "Natural frequency: $0.929 \\pm 0.034$ Hz"
     },
     "metadata": {},
     "output_type": "display_data"
    },
    {
     "data": {
      "text/plain": "<IPython.core.display.Latex object>",
      "text/latex": "Natural angular frequency: $5.84 \\pm 0.21$ rad/s"
     },
     "metadata": {},
     "output_type": "display_data"
    }
   ],
   "source": [
    "# Measurements of period of oscillation with no driving force along with calculated natural frequency and angular frequency\n",
    "periods = np.array([1.11, 0.96, 0.89, 1.11, 1.08, 1.09, 0.98, 1.03, 1.37, 1.14]) # in s\n",
    "period, natural_frequency, natural_angular_frequency = process_periods(periods)\n",
    "display(Latex('Average period: ${:L}$ s'.format(period)))\n",
    "display(Latex('Natural frequency: ${:L}$ Hz'.format(natural_frequency)))\n",
    "display(Latex('Natural angular frequency: ${:L}$ rad/s'.format(natural_angular_frequency)))"
   ],
   "metadata": {
    "collapsed": false
   }
  },
  {
   "cell_type": "markdown",
   "source": [
    "# Calculating the theoretical natural frequency and angular frequency\n"
   ],
   "metadata": {
    "collapsed": false
   }
  },
  {
   "cell_type": "code",
   "execution_count": 312,
   "outputs": [],
   "source": [
    "def natural_frequencies(spring_constant, total_mass):\n",
    "    natural_angular_frequency_theory = unumpy.sqrt(2*spring_constant/total_mass)\n",
    "    natural_frequency_theory = natural_angular_frequency_theory/(2*np.pi)\n",
    "    return natural_frequency_theory, natural_angular_frequency_theory"
   ],
   "metadata": {
    "collapsed": false
   }
  },
  {
   "cell_type": "code",
   "execution_count": 313,
   "outputs": [
    {
     "data": {
      "text/plain": "<IPython.core.display.Latex object>",
      "text/latex": "Theoretical natural frequency: $0.9253 \\pm 0.0014$ Hz"
     },
     "metadata": {},
     "output_type": "display_data"
    },
    {
     "data": {
      "text/plain": "<IPython.core.display.Latex object>",
      "text/latex": "Theoretical natural angular frequency: $5.814 \\pm 0.009$ rad/s"
     },
     "metadata": {},
     "output_type": "display_data"
    }
   ],
   "source": [
    "# Calculating the theoretical natural frequency and angular frequency for single cart\n",
    "natural_frequency_theory_single, natural_angular_frequency_theory_single = natural_frequencies(spring_constant, air_cart_masses[0])\n",
    "display(Latex('Theoretical natural frequency: ${:L}$ Hz'.format(natural_frequency_theory_single)))\n",
    "display(Latex('Theoretical natural angular frequency: ${:L}$ rad/s'.format(natural_angular_frequency_theory_single)))"
   ],
   "metadata": {
    "collapsed": false
   }
  },
  {
   "cell_type": "markdown",
   "source": [
    "# Turning on the driving force\n",
    "- Set driving frequency to 0.5 Hz from predicted resonance frequency\n",
    "- Increase by 0.1 Hz until withing 0.05 Hz of resonance frequency, then increase by 0.01 Hz.\n",
    "- Once the resonance frequency is passed by 0.05 Hz, increase by 0.1 Hz for 4 or 5 measurements."
   ],
   "metadata": {
    "collapsed": false
   }
  },
  {
   "cell_type": "code",
   "execution_count": 314,
   "outputs": [
    {
     "data": {
      "text/plain": "<IPython.core.display.Latex object>",
      "text/latex": "Theoretical resonance frequency: $0.9253 \\pm 0.0014$ Hz"
     },
     "metadata": {},
     "output_type": "display_data"
    }
   ],
   "source": [
    "# Theoretical resonance frequency\n",
    "resonance_frequency_theory_single = natural_frequency_theory_single\n",
    "display(Latex('Theoretical resonance frequency: ${:L}$ Hz'.format(resonance_frequency_theory_single)))"
   ],
   "metadata": {
    "collapsed": false
   }
  },
  {
   "cell_type": "code",
   "execution_count": 315,
   "outputs": [],
   "source": [
    "# Measured resonance frequency for single air cart\n",
    "driving_frequency_std = 0.0005 # in Hz\n",
    "oscillation_amplitude_std = 0.005E-2 # in m\n",
    "driving_frequency = np.array([0.410, 0.513, 0.607, 0.708, 0.805, 0.874, 0.883, 0.895, 0.911, 0.920, 0.924, 0.937, 0.949, 0.992, 1.016, 1.118, 1.216, 1.333]) # in Hz\n",
    "oscillation_amplitude = np.array([0.3, 0.35, 0.45, 0.5, 0.9, 3.5, 4.5, 11.0, 11.5, 11.5, 5.5, 2.5, 1.5, 0.9, 0.6, 0.4, 0.3, 0.2])*1E-2 # in m\n",
    "\n",
    "driving_frequency_single = unumpy.uarray(driving_frequency, np.full(len(driving_frequency), driving_frequency_std, dtype = float))\n",
    "oscillation_amplitude_single = unumpy.uarray(oscillation_amplitude, np.full(len(oscillation_amplitude), oscillation_amplitude_std, dtype = float))"
   ],
   "metadata": {
    "collapsed": false
   }
  },
  {
   "cell_type": "code",
   "execution_count": 316,
   "outputs": [
    {
     "data": {
      "text/plain": "<Figure size 468x289.24 with 1 Axes>",
      "image/png": "[encoded data removed]"
     },
     "metadata": {
      "needs_background": "light"
     },
     "output_type": "display_data"
    }
   ],
   "source": [
    "# Plotting the amplitude of oscillation vs driving frequency\n",
    "fig, ax = plt.subplots(1, 1, figsize=plots.set_size('default', fraction=1))\n",
    "ax.plot(unumpy.nominal_values(driving_frequency_single), unumpy.nominal_values(oscillation_amplitude_single)*1E2, color = \"grey\", linestyle = \"--\")\n",
    "ax.errorbar(unumpy.nominal_values(driving_frequency_single), unumpy.nominal_values(oscillation_amplitude_single)*1E2,\n",
    "            xerr = unumpy.std_devs(driving_frequency_single), yerr = unumpy.std_devs(oscillation_amplitude_single)*1E2, fmt='o',label='Measured', capsize=3, capthick=1, color = \"black\", ms = 2)\n",
    "ax.set_xlabel('Driving frequency (Hz)')\n",
    "ax.set_ylabel('Oscillation amplitude (cm)')\n",
    "ax.set_title('Oscillation Amplitude vs Driving Frequency for Single Air Cart')\n",
    "ax.legend()\n",
    "# plt.savefig('../figures/oscillation_amplitude_vs_driving_frequency_single.pdf', dpi = 300)"
   ],
   "metadata": {
    "collapsed": false
   }
  },
  {
   "cell_type": "code",
   "execution_count": 317,
   "outputs": [
    {
     "data": {
      "text/plain": "<IPython.core.display.Latex object>",
      "text/latex": "Resonance frequency: $0.9200 \\pm 0.0005$ Hz"
     },
     "metadata": {},
     "output_type": "display_data"
    }
   ],
   "source": [
    "# get the resonance frequency\n",
    "max = np.max(oscillation_amplitude_single)\n",
    "resonance_frequency_single = driving_frequency_single[oscillation_amplitude_single == max][0]\n",
    "display(Latex('Resonance frequency: ${:L}$ Hz'.format(resonance_frequency_single)))"
   ],
   "metadata": {
    "collapsed": false
   }
  },
  {
   "cell_type": "markdown",
   "source": [
    "# Adding weight to the single air cart, drived system"
   ],
   "metadata": {
    "collapsed": false
   }
  },
  {
   "cell_type": "code",
   "execution_count": 318,
   "outputs": [
    {
     "data": {
      "text/plain": "<IPython.core.display.Latex object>",
      "text/latex": "Average period: $1.133 \\pm 0.013$ s"
     },
     "metadata": {},
     "output_type": "display_data"
    },
    {
     "data": {
      "text/plain": "<IPython.core.display.Latex object>",
      "text/latex": "Natural frequency: $0.883 \\pm 0.010$ Hz"
     },
     "metadata": {},
     "output_type": "display_data"
    },
    {
     "data": {
      "text/plain": "<IPython.core.display.Latex object>",
      "text/latex": "Natural angular frequency: $5.55 \\pm 0.06$ rad/s"
     },
     "metadata": {},
     "output_type": "display_data"
    }
   ],
   "source": [
    "# measuring period of oscillation with no driving force\n",
    "periods = np.array([1.08, 1.16, 1.18, 1.18, 1.06, 1.13, 1.10, 1.13, 1.18, 1.13]) # in s\n",
    "period, natural_frequency, natural_angular_frequency = process_periods(periods)\n",
    "display(Latex('Average period: ${:L}$ s'.format(period)))\n",
    "display(Latex('Natural frequency: ${:L}$ Hz'.format(natural_frequency)))\n",
    "display(Latex('Natural angular frequency: ${:L}$ rad/s'.format(natural_angular_frequency)))"
   ],
   "metadata": {
    "collapsed": false
   }
  },
  {
   "cell_type": "code",
   "execution_count": 319,
   "outputs": [
    {
     "data": {
      "text/plain": "<IPython.core.display.Latex object>",
      "text/latex": "Theoretical natural frequency: $0.8838 \\pm 0.0014$ Hz"
     },
     "metadata": {},
     "output_type": "display_data"
    },
    {
     "data": {
      "text/plain": "<IPython.core.display.Latex object>",
      "text/latex": "Theoretical natural angular frequency: $5.553 \\pm 0.009$ rad/s"
     },
     "metadata": {},
     "output_type": "display_data"
    }
   ],
   "source": [
    "# Theoretical resonance frequency for single air cart with weight of 20 g\n",
    "added_mass = 20E-3 # in kg\n",
    "natural_frequency_theory_single_weight, natural_angular_frequency_theory_single_weight = natural_frequencies(spring_constant, air_cart_masses[0] + added_mass)\n",
    "display(Latex('Theoretical natural frequency: ${:L}$ Hz'.format(natural_frequency_theory_single_weight)))\n",
    "display(Latex('Theoretical natural angular frequency: ${:L}$ rad/s'.format(natural_angular_frequency_theory_single_weight)))"
   ],
   "metadata": {
    "collapsed": false
   }
  },
  {
   "cell_type": "code",
   "execution_count": 320,
   "outputs": [],
   "source": [
    "# Measured resonance frequency for single air cart with weight of 50 g  (NOT FINISHED, REDO EVENTUALLY)\n",
    "driving_frequency= np.array([0.187, 0.269, 0.380, 0.486, 0.593, 0.696, 0.770, 0.795, 0.809, 0.820, 0.840, 0.855, 0.869, 0.885, 0.908, 0.924, 0.955, 0.973, 1.053, 1.205, 1.304]) # in Hz\n",
    "oscillation_amplitude = np.array([2.4, 1.2, 0.8, 0.8, 0.9, 1.2, 2.2, 2.3, 1.8, 2.1, 4.1, 5.2, 39.5-24.6, 38.2 - 26.0, 35.5 - 27.8, 34.2- 30, 33.7-30.5, 2.2, 1.4, 0.8, 0.7])*1E-2 # in m\n",
    "\n",
    "driving_frequency_single_weight = unumpy.uarray(driving_frequency, np.full(len(driving_frequency), driving_frequency_std, dtype = float))\n",
    "oscillation_amplitude_single_weight = unumpy.uarray(oscillation_amplitude, np.full(len(oscillation_amplitude), oscillation_amplitude_std, dtype = float))"
   ],
   "metadata": {
    "collapsed": false
   }
  },
  {
   "cell_type": "code",
   "execution_count": 321,
   "outputs": [
    {
     "data": {
      "text/plain": "<matplotlib.legend.Legend at 0x7f5508dd2290>"
     },
     "execution_count": 321,
     "metadata": {},
     "output_type": "execute_result"
    },
    {
     "data": {
      "text/plain": "<Figure size 468x289.24 with 1 Axes>",
      "image/png": "[encoded data removed]"
     },
     "metadata": {
      "needs_background": "light"
     },
     "output_type": "display_data"
    }
   ],
   "source": [
    "# Plotting the amplitude of oscillation vs driving frequency for single air cart with weight of added 50 g\n",
    "fig, ax = plt.subplots(1, 1, figsize=plots.set_size('default', fraction=1))\n",
    "ax.plot(unumpy.nominal_values(driving_frequency_single_weight), unumpy.nominal_values(oscillation_amplitude_single_weight)*1E2, color = \"grey\", linestyle = \"--\")\n",
    "ax.errorbar(unumpy.nominal_values(driving_frequency_single_weight), unumpy.nominal_values(oscillation_amplitude_single_weight)*1E2,\n",
    "            xerr = unumpy.std_devs(driving_frequency_single_weight), yerr = unumpy.std_devs(oscillation_amplitude_single_weight)*1E2, fmt='o',label='Measured', capsize=3, capthick=1, color = \"black\", ms = 2)\n",
    "ax.set_xlabel('Driving frequency (Hz)')\n",
    "ax.set_ylabel('Oscillation amplitude (cm)')\n",
    "ax.set_title('Oscillation Amplitude vs Driving frequency for Single Air Cart With Added Weight of 50 g')\n",
    "# make title font smaller\n",
    "ax.title.set_fontsize(11)\n",
    "ax.legend()\n",
    "# plt.savefig('../figures/oscillation_amplitude_vs_driving_frequency_single_weight.pdf', dpi = 300)"
   ],
   "metadata": {
    "collapsed": false
   }
  },
  {
   "cell_type": "code",
   "execution_count": 322,
   "outputs": [
    {
     "data": {
      "text/plain": "<IPython.core.display.Latex object>",
      "text/latex": "Resonance frequency: $0.8690 \\pm 0.0005$ Hz"
     },
     "metadata": {},
     "output_type": "display_data"
    }
   ],
   "source": [
    "# get the resonance frequency\n",
    "max = np.max(oscillation_amplitude_single_weight)\n",
    "resonance_frequency = driving_frequency_single_weight[oscillation_amplitude_single_weight == max][0]\n",
    "display(Latex('Resonance frequency: ${:L}$ Hz'.format(resonance_frequency)))"
   ],
   "metadata": {
    "collapsed": false
   }
  },
  {
   "cell_type": "markdown",
   "source": [
    "# Two Air Tracks\n"
   ],
   "metadata": {
    "collapsed": false
   }
  },
  {
   "cell_type": "code",
   "execution_count": 323,
   "outputs": [
    {
     "data": {
      "text/plain": "<IPython.core.display.Latex object>",
      "text/latex": "Average period: $1.133 \\pm 0.013$ s"
     },
     "metadata": {},
     "output_type": "display_data"
    },
    {
     "data": {
      "text/plain": "<IPython.core.display.Latex object>",
      "text/latex": "Natural frequency: $0.883 \\pm 0.010$ Hz"
     },
     "metadata": {},
     "output_type": "display_data"
    },
    {
     "data": {
      "text/plain": "<IPython.core.display.Latex object>",
      "text/latex": "Natural angular frequency: $5.55 \\pm 0.06$ rad/s"
     },
     "metadata": {},
     "output_type": "display_data"
    }
   ],
   "source": [
    "# measuring periods\n",
    "periods1 = np.array([1.58, 1.56, 1.58, 1.55, 1.50, 1.45, 1.46, 1.58, 1.40, 1.53])\n",
    "period1, natural_frequency1, natural_angular_frequency1 = process_periods(periods)\n",
    "display(Latex('Average period: ${:L}$ s'.format(period)))\n",
    "display(Latex('Natural frequency: ${:L}$ Hz'.format(natural_frequency)))\n",
    "display(Latex('Natural angular frequency: ${:L}$ rad/s'.format(natural_angular_frequency)))"
   ],
   "metadata": {
    "collapsed": false
   }
  },
  {
   "cell_type": "code",
   "execution_count": 324,
   "outputs": [
    {
     "data": {
      "text/plain": "<IPython.core.display.Latex object>",
      "text/latex": "Average period: $0.885 \\pm 0.016$ s"
     },
     "metadata": {},
     "output_type": "display_data"
    },
    {
     "data": {
      "text/plain": "<IPython.core.display.Latex object>",
      "text/latex": "Natural frequency: $1.130 \\pm 0.021$ Hz"
     },
     "metadata": {},
     "output_type": "display_data"
    },
    {
     "data": {
      "text/plain": "<IPython.core.display.Latex object>",
      "text/latex": "Natural angular frequency: $7.10 \\pm 0.13$ rad/s"
     },
     "metadata": {},
     "output_type": "display_data"
    }
   ],
   "source": [
    "periods2 = np.array([0.98, 0.83, 0.90, 0.86, 0.86, 0.85, 0.85, 0.83, 0.94, 0.95])\n",
    "period2, natural_frequency2, natural_angular_frequency2 = process_periods(periods2)\n",
    "display(Latex('Average period: ${:L}$ s'.format(period2)))\n",
    "display(Latex('Natural frequency: ${:L}$ Hz'.format(natural_frequency2)))\n",
    "display(Latex('Natural angular frequency: ${:L}$ rad/s'.format(natural_angular_frequency2)))"
   ],
   "metadata": {
    "collapsed": false
   }
  },
  {
   "cell_type": "code",
   "execution_count": 325,
   "outputs": [
    {
     "data": {
      "text/plain": "<IPython.core.display.Latex object>",
      "text/latex": "Theoretical natural frequency: $0.9253 \\pm 0.0014$ Hz"
     },
     "metadata": {},
     "output_type": "display_data"
    }
   ],
   "source": [
    "# Calculating the theoretical natural frequency and angular frequency for two carts\n",
    "natural_frequency_theory_two, natural_angular_frequency_theory_two = natural_frequencies(spring_constant, air_cart_masses[0])\n",
    "display(Latex('Theoretical natural frequency: ${:L}$ Hz'.format(natural_frequency_theory_two)))"
   ],
   "metadata": {
    "collapsed": false
   }
  },
  {
   "cell_type": "code",
   "execution_count": 326,
   "outputs": [
    {
     "data": {
      "text/plain": "<IPython.core.display.Latex object>",
      "text/latex": "Theoretical resonance frequency 1: $0.6543 \\pm 0.0010$ Hz"
     },
     "metadata": {},
     "output_type": "display_data"
    },
    {
     "data": {
      "text/plain": "<IPython.core.display.Latex object>",
      "text/latex": "Theoretical resonance frequency 2: $1.1333 \\pm 0.0017$ Hz"
     },
     "metadata": {},
     "output_type": "display_data"
    }
   ],
   "source": [
    "# Theoretical resonance frequency for two air carts\n",
    "resonance_frequency_theory_two = (natural_frequency_theory_two*unumpy.sqrt(1/2), natural_frequency_theory_two*unumpy.sqrt(3/2))\n",
    "display(Latex('Theoretical resonance frequency 1: ${:L}$ Hz'.format(resonance_frequency_theory_two[0])))\n",
    "display(Latex('Theoretical resonance frequency 2: ${:L}$ Hz'.format(resonance_frequency_theory_two[1])))"
   ],
   "metadata": {
    "collapsed": false
   }
  },
  {
   "cell_type": "code",
   "execution_count": 327,
   "outputs": [],
   "source": [
    "# measuring resonance frequencies\n",
    "driving_frequency = np.array([0.186, 0.289, 0.388, 0.490, 0.584, 0.620, 0.636, 0.649, 0.658, 0.688, 0.708, 0.761, 0.815, 0.886, 0.928, 0.997, 1.055, 1.130, 1.217, 1.322, 1.401, 1.499, 1.602, 2.026, 2.512]) # in Hz\n",
    "oscillation_amplitude = np.array([0.4, 0.8, 0.4, 0.4, 2.2, 4.0, 5.5, 37.5-19.5, 36.5-20.0, 31.5-26, 2, 1.6, 1, 0.6, 1.5, 3.5, 4.2, 6, 3.5, 3, 2.2, 1.3, 0.7, 0.3, 0.2])*1E-2 # in m\n",
    "\n",
    "driving_frequency_double = unumpy.uarray(driving_frequency, np.full(len(driving_frequency), driving_frequency_std, dtype = float))\n",
    "oscillation_amplitude_double = unumpy.uarray(oscillation_amplitude, np.full(len(oscillation_amplitude), oscillation_amplitude_std, dtype = float))"
   ],
   "metadata": {
    "collapsed": false
   }
  },
  {
   "cell_type": "code",
   "execution_count": 328,
   "outputs": [
    {
     "data": {
      "text/plain": "<Figure size 468x289.24 with 1 Axes>",
      "image/png": "[encoded data removed]"
     },
     "metadata": {
      "needs_background": "light"
     },
     "output_type": "display_data"
    }
   ],
   "source": [
    "# Plotting the amplitude of oscillation vs driving frequency for two air carts\n",
    "fig, ax = plt.subplots(1, 1, figsize=plots.set_size('default', fraction=1))\n",
    "ax.plot(unumpy.nominal_values(driving_frequency_double), unumpy.nominal_values(oscillation_amplitude_double)*1E2, color = \"grey\", linestyle = \"--\")\n",
    "ax.errorbar(unumpy.nominal_values(driving_frequency_double), unumpy.nominal_values(oscillation_amplitude_double)*1E2,\n",
    "            xerr = unumpy.std_devs(driving_frequency_double), yerr = unumpy.std_devs(oscillation_amplitude_double)*1E2, fmt='o',label='Measured', capsize=3, capthick=1, color = \"black\", ms = 2)\n",
    "ax.set_xlabel('Driving frequency (Hz)')\n",
    "ax.set_ylabel('Oscillation amplitude (cm)')\n",
    "ax.set_title('Oscillation Amplitude vs Driving frequency for Two Air Carts')\n",
    "ax.legend()\n",
    "plt.savefig('../figures/oscillation_amplitude_vs_driving_frequency_double.pdf', dpi = 300)"
   ],
   "metadata": {
    "collapsed": false
   }
  },
  {
   "cell_type": "code",
   "execution_count": 329,
   "outputs": [
    {
     "data": {
      "text/plain": "<IPython.core.display.Latex object>",
      "text/latex": "Resonance frequency 1: $0.6490 \\pm 0.0005$ Hz"
     },
     "metadata": {},
     "output_type": "display_data"
    },
    {
     "data": {
      "text/plain": "<IPython.core.display.Latex object>",
      "text/latex": "Resonance frequency 2: $1.1300 \\pm 0.0005$ Hz"
     },
     "metadata": {},
     "output_type": "display_data"
    }
   ],
   "source": [
    "# get two frequencies with the highest amplitude\n",
    "max1 = np.max(oscillation_amplitude_double)\n",
    "max2 = np.max(oscillation_amplitude_double[oscillation_amplitude_double < 10E-2])\n",
    "resonance_frequency1 = driving_frequency_double[oscillation_amplitude_double == max1][0]\n",
    "resonance_frequency2 = driving_frequency_double[oscillation_amplitude_double == max2][0]\n",
    "display(Latex('Resonance frequency 1: ${:L}$ Hz'.format(resonance_frequency1)))\n",
    "display(Latex('Resonance frequency 2: ${:L}$ Hz'.format(resonance_frequency2)))"
   ],
   "metadata": {
    "collapsed": false
   }
  },
  {
   "cell_type": "code",
   "execution_count": 329,
   "outputs": [],
   "source": [],
   "metadata": {
    "collapsed": false
   }
  }
 ],
 "metadata": {
  "kernelspec": {
   "display_name": "Python 3",
   "language": "python",
   "name": "python3"
  },
  "language_info": {
   "codemirror_mode": {
    "name": "ipython",
    "version": 2
   },
   "file_extension": ".py",
   "mimetype": "text/x-python",
   "name": "python",
   "nbconvert_exporter": "python",
   "pygments_lexer": "ipython2",
   "version": "2.7.6"
  }
 },
 "nbformat": 4,
 "nbformat_minor": 0
}
