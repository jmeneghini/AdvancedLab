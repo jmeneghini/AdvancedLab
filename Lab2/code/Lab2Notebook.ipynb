{
 "cells": [
  {
   "cell_type": "code",
   "execution_count": 143,
   "metadata": {
    "collapsed": true
   },
   "outputs": [],
   "source": [
    "import numpy as np\n",
    "import matplotlib.pyplot as plt\n",
    "from uncertainties import ufloat, unumpy\n",
    "from IPython.display import display, Latex\n",
    "from scipy.constants import g"
   ]
  },
  {
   "cell_type": "code",
   "execution_count": 144,
   "outputs": [],
   "source": [
    "# importing local modules\n",
    "import sys\n",
    "sys.path.append('...\\\\...\\\\utility')\n",
    "\n",
    "from utility import plots"
   ],
   "metadata": {
    "collapsed": false
   }
  },
  {
   "cell_type": "code",
   "execution_count": 145,
   "outputs": [],
   "source": [
    "# Setting up the plots\n",
    "plots.set_style()"
   ],
   "metadata": {
    "collapsed": false
   }
  },
  {
   "cell_type": "markdown",
   "source": [
    "# Part 1: Measuring spring constants\n",
    "For the three (supposedly identical) spring, we're measuring the displacement using a meter stick while increasing mass from 50g to 130g in steps of 20g (5 measurements)."
   ],
   "metadata": {
    "collapsed": false
   }
  },
  {
   "cell_type": "code",
   "execution_count": 146,
   "outputs": [],
   "source": [
    "spring_1_mass = np.array([50, 70, 90, 110, 130])*1E-3 # in kg\n",
    "spring_1_displacement = np.array([14, 19.5, 25, 30.5, 36.25])*1E-2 # in m"
   ],
   "metadata": {
    "collapsed": false
   }
  },
  {
   "cell_type": "code",
   "execution_count": 147,
   "outputs": [],
   "source": [
    "spring_1_force = spring_1_mass*g # in N"
   ],
   "metadata": {
    "collapsed": false
   }
  },
  {
   "cell_type": "code",
   "execution_count": 148,
   "outputs": [
    {
     "data": {
      "text/plain": "<IPython.core.display.Latex object>",
      "text/latex": "Spring 1 spring constant: 3.5336 N/m"
     },
     "metadata": {},
     "output_type": "display_data"
    }
   ],
   "source": [
    "# Plotting the force vs displacement and fit using np.polyfit for spring 1\n",
    "fit = np.polyfit(spring_1_displacement, spring_1_force, 1)\n",
    "spring_1_k = fit[0]\n",
    "display(Latex('Spring 1 spring constant: {:.4f} N/m'.format(spring_1_k)))"
   ],
   "metadata": {
    "collapsed": false
   }
  },
  {
   "cell_type": "code",
   "execution_count": 149,
   "outputs": [],
   "source": [
    "# Repeat for spring 2\n",
    "spring_2_mass = np.array([50, 70, 90, 110, 130])*1E-3 # in kg\n",
    "spring_2_displacement = np.array([14.5, 20.0, 25.75, 31.5, 37])*1E-2 # in m"
   ],
   "metadata": {
    "collapsed": false
   }
  },
  {
   "cell_type": "code",
   "execution_count": 150,
   "outputs": [],
   "source": [
    "spring_2_force = spring_2_mass*9.81 # in N"
   ],
   "metadata": {
    "collapsed": false
   }
  },
  {
   "cell_type": "code",
   "execution_count": 151,
   "outputs": [
    {
     "data": {
      "text/plain": "<IPython.core.display.Latex object>",
      "text/latex": "Spring 2 spring constant: 3.4723 N/m"
     },
     "metadata": {},
     "output_type": "display_data"
    }
   ],
   "source": [
    "# Plotting the force vs displacement and fit using np.polyfit for spring 2\n",
    "fit = np.polyfit(spring_2_displacement, spring_2_force, 1)\n",
    "spring_2_k = fit[0]\n",
    "display(Latex('Spring 2 spring constant: {:.4f} N/m'.format(spring_2_k)))"
   ],
   "metadata": {
    "collapsed": false
   }
  },
  {
   "cell_type": "code",
   "execution_count": 152,
   "outputs": [],
   "source": [
    "# Repeat for spring 3\n",
    "spring_3_mass = np.array([50, 70, 90, 110, 130])*1E-3 # in kg\n",
    "spring_3_displacement = np.array([13, 18.5, 24, 29.5, 35.25])*1E-2 # in m"
   ],
   "metadata": {
    "collapsed": false
   }
  },
  {
   "cell_type": "code",
   "execution_count": 153,
   "outputs": [],
   "source": [
    "spring_3_force = spring_3_mass*9.81 # in N"
   ],
   "metadata": {
    "collapsed": false
   }
  },
  {
   "cell_type": "code",
   "execution_count": 154,
   "outputs": [
    {
     "data": {
      "text/plain": "<IPython.core.display.Latex object>",
      "text/latex": "Spring 3 spring constant: 3.5348 N/m"
     },
     "metadata": {},
     "output_type": "display_data"
    }
   ],
   "source": [
    "# Plotting the force vs displacement and fit using np.polyfit for spring 3\n",
    "fit = np.polyfit(spring_3_displacement, spring_3_force, 1)\n",
    "spring_3_k = fit[0]\n",
    "display(Latex('Spring 3 spring constant: {:.4f} N/m'.format(spring_3_k)))"
   ],
   "metadata": {
    "collapsed": false
   }
  },
  {
   "cell_type": "code",
   "execution_count": 155,
   "outputs": [
    {
     "data": {
      "text/plain": "<IPython.core.display.Latex object>",
      "text/latex": "Spring constants: 3.5336 N/m, 3.4723 N/m, 3.5348 N/m"
     },
     "metadata": {},
     "output_type": "display_data"
    }
   ],
   "source": [
    "# List of spring constants\n",
    "spring_constants = np.array([spring_1_k, spring_2_k, spring_3_k])\n",
    "display(Latex('Spring constants: {:.4f} N/m, {:.4f} N/m, {:.4f} N/m'.format(spring_constants[0], spring_constants[1], spring_constants[2])))"
   ],
   "metadata": {
    "collapsed": false
   }
  },
  {
   "cell_type": "code",
   "execution_count": 156,
   "outputs": [
    {
     "data": {
      "text/plain": "3.5127359482482094"
     },
     "execution_count": 156,
     "metadata": {},
     "output_type": "execute_result"
    },
    {
     "data": {
      "text/plain": "<Figure size 468x289.24 with 1 Axes>",
      "image/png": "[encoded data removed]"
     },
     "metadata": {
      "needs_background": "light"
     },
     "output_type": "display_data"
    }
   ],
   "source": [
    "# Plotting average spring constant\n",
    "fig, ax = plt.subplots(1, 1, figsize=plots.set_size('default', fraction=1))\n",
    "\n",
    "spring_avg_displacement = np.array([np.mean([spring_1_displacement[i], spring_2_displacement[i], spring_3_displacement[i]]) for i in range(len(spring_1_displacement))])\n",
    "spring_std_displacement = np.array([np.std([spring_1_displacement[i], spring_2_displacement[i], spring_3_displacement[i]]) for i in range(len(spring_1_displacement))])\n",
    "\n",
    "fit = np.polyfit(spring_avg_displacement, spring_1_force, 1)\n",
    "spring_avg_fit_fn = np.poly1d(fit)\n",
    "\n",
    "ax.errorbar(spring_avg_displacement, spring_1_force, xerr = spring_std_displacement, fmt='o', label='Average of 3 springs', capsize=3, capthick=1, color = \"black\")\n",
    "ax.plot(spring_avg_displacement, spring_avg_fit_fn(spring_avg_displacement), label=r'$F = kx$'.format(fit[0]), color = \"grey\", linestyle = \"--\")\n",
    "ax.set_xlabel('Displacement (m)')\n",
    "ax.set_ylabel('Force (N)')\n",
    "ax.set_title('Magnitude of Force vs Displacement for Average of 3 Springs')\n",
    "ax.legend()\n",
    "# fig.savefig('../figures/spring_avg.pdf', bbox_inches='tight')\n",
    "fit[0]"
   ],
   "metadata": {
    "collapsed": false
   }
  },
  {
   "cell_type": "code",
   "execution_count": 157,
   "outputs": [
    {
     "data": {
      "text/plain": "<IPython.core.display.Latex object>",
      "text/latex": "Average spring constant: $3.514 \\pm 0.029$ N/m"
     },
     "metadata": {},
     "output_type": "display_data"
    }
   ],
   "source": [
    "# Calculating the average spring constant and standard deviation\n",
    "spring_constant_avg = np.mean(spring_constants)\n",
    "spring_constant_std = np.std(spring_constants)\n",
    "spring_constant = ufloat(spring_constant_avg, spring_constant_std)\n",
    "display(Latex('Average spring constant: ${:L}$ N/m'.format(spring_constant)))"
   ],
   "metadata": {
    "collapsed": false
   }
  },
  {
   "cell_type": "markdown",
   "source": [
    "# Part 2: The forced, damped, harmonic oscillator\n",
    " - Calculate the period of the oscillator with no driving force\n",
    "  - Calculate the natural frequency of the oscillator $f_0$ and the natural angular frequency $\\omega_0$"
   ],
   "metadata": {
    "collapsed": false
   }
  },
  {
   "cell_type": "code",
   "execution_count": 158,
   "outputs": [],
   "source": [
    "# Mass of air carts in kg\n",
    "air_cart_masses = unumpy.uarray([207.9, 206.4], [0.05, 0.05])*1E-3"
   ],
   "metadata": {
    "collapsed": false
   }
  },
  {
   "cell_type": "code",
   "execution_count": 159,
   "outputs": [
    {
     "data": {
      "text/plain": "<IPython.core.display.Latex object>",
      "text/latex": "Average period: $1.08 \\pm 0.12$ s"
     },
     "metadata": {},
     "output_type": "display_data"
    }
   ],
   "source": [
    "# Measurements of period of oscillation with no driving force\n",
    "periods = np.array([1.11, 0.96, 0.89, 1.11, 1.08, 1.09, 0.98, 1.03, 1.37, 1.14]) # in s\n",
    "period_avg = np.mean(periods)\n",
    "period_std = np.std(periods)\n",
    "period = ufloat(period_avg, period_std)\n",
    "display(Latex('Average period: ${:L}$ s'.format(period)))"
   ],
   "metadata": {
    "collapsed": false
   }
  },
  {
   "cell_type": "code",
   "execution_count": 160,
   "outputs": [
    {
     "data": {
      "text/plain": "<IPython.core.display.Latex object>",
      "text/latex": "Natural frequency: $0.93 \\pm 0.11$ Hz"
     },
     "metadata": {},
     "output_type": "display_data"
    },
    {
     "data": {
      "text/plain": "<IPython.core.display.Latex object>",
      "text/latex": "Natural angular frequency: $5.8 \\pm 0.7$ rad/s"
     },
     "metadata": {},
     "output_type": "display_data"
    }
   ],
   "source": [
    "# Calculating the natural frequency and angular frequency\n",
    "natural_frequency = 1/period\n",
    "natural_angular_frequency = 2*np.pi*natural_frequency\n",
    "display(Latex('Natural frequency: ${:L}$ Hz'.format(natural_frequency)))\n",
    "display(Latex('Natural angular frequency: ${:L}$ rad/s'.format(natural_angular_frequency)))"
   ],
   "metadata": {
    "collapsed": false
   }
  },
  {
   "cell_type": "markdown",
   "source": [
    "# Calculating the theoretical natural frequency and angular frequency\n"
   ],
   "metadata": {
    "collapsed": false
   }
  },
  {
   "cell_type": "code",
   "execution_count": 161,
   "outputs": [
    {
     "data": {
      "text/plain": "<IPython.core.display.Latex object>",
      "text/latex": "Theoretical natural frequency: $0.925 \\pm 0.004$ Hz"
     },
     "metadata": {},
     "output_type": "display_data"
    },
    {
     "data": {
      "text/plain": "<IPython.core.display.Latex object>",
      "text/latex": "Theoretical natural angular frequency: $5.814 \\pm 0.024$ rad/s"
     },
     "metadata": {},
     "output_type": "display_data"
    }
   ],
   "source": [
    "# Calculating the theoretical natural frequency and angular frequency\n",
    "natural_angular_frequency_theory = unumpy.sqrt(2*spring_constant/air_cart_masses[0])\n",
    "natural_frequency_theory = natural_angular_frequency_theory/(2*np.pi)\n",
    "display(Latex('Theoretical natural frequency: ${:L}$ Hz'.format(natural_frequency_theory)))\n",
    "display(Latex('Theoretical natural angular frequency: ${:L}$ rad/s'.format(natural_angular_frequency_theory)))"
   ],
   "metadata": {
    "collapsed": false
   }
  },
  {
   "cell_type": "markdown",
   "source": [
    "# Turning on the driving force\n",
    "- Set driving frequency to 0.5 Hz from predicted resonance frequency\n",
    "- Increase by 0.1 Hz until withing 0.05 Hz of resonance frequency, then increase by 0.01 Hz.\n",
    "- Once the resonance frequency is passed by 0.05 Hz, increase by 0.1 Hz for 4 or 5 measurements."
   ],
   "metadata": {
    "collapsed": false
   }
  },
  {
   "cell_type": "code",
   "execution_count": 162,
   "outputs": [
    {
     "data": {
      "text/plain": "<IPython.core.display.Latex object>",
      "text/latex": "Theoretical resonance frequency: $0.925 \\pm 0.004$ Hz"
     },
     "metadata": {},
     "output_type": "display_data"
    }
   ],
   "source": [
    "# Theoretical resonance frequency\n",
    "resonance_frequency_theory = natural_frequency_theory\n",
    "display(Latex('Theoretical resonance frequency: ${:L}$ Hz'.format(resonance_frequency_theory)))"
   ],
   "metadata": {
    "collapsed": false
   }
  },
  {
   "cell_type": "code",
   "execution_count": 163,
   "outputs": [],
   "source": [
    "# Measured resonance frequency\n",
    "driving_frequency = np.array([0.410, 0.513, 0.607, 0.708, 0.805, 0.874, 0.883, 0.895, 0.911, 0.920]) # in Hz\n",
    "oscillation_amplitude = np.array([0.3, 0.35, 0.45, 0.5, 0.9, 3.5, 4.5, 11.0, 11.5, 11.5])*1E-2 # in m"
   ],
   "metadata": {
    "collapsed": false
   }
  }
 ],
 "metadata": {
  "kernelspec": {
   "display_name": "Python 3",
   "language": "python",
   "name": "python3"
  },
  "language_info": {
   "codemirror_mode": {
    "name": "ipython",
    "version": 2
   },
   "file_extension": ".py",
   "mimetype": "text/x-python",
   "name": "python",
   "nbconvert_exporter": "python",
   "pygments_lexer": "ipython2",
   "version": "2.7.6"
  }
 },
 "nbformat": 4,
 "nbformat_minor": 0
}
